{
 "cells": [
  {
   "cell_type": "code",
   "execution_count": 8,
   "metadata": {},
   "outputs": [
    {
     "name": "stdout",
     "output_type": "stream",
     "text": [
      "[2, 4, 6, 8, 10]\n"
     ]
    }
   ],
   "source": [
    "\"\"\"\"\"\"\"Map() practice\"\"\"\"\"\"\"\n",
    "\n",
    "def multiply (x):\n",
    "    return x*2\n",
    "\n",
    "number = (1,2,3,4,5)\n",
    "result = map(multiply,number)\n",
    "print (list(result))\n"
   ]
  },
  {
   "cell_type": "code",
   "execution_count": 10,
   "metadata": {},
   "outputs": [
    {
     "name": "stdout",
     "output_type": "stream",
     "text": [
      "[2, 4, 6, 8, 10]\n"
     ]
    }
   ],
   "source": [
    "result = map(lambda x:x*2,(1,2,3,4,5))\n",
    "print (list(result))"
   ]
  },
  {
   "cell_type": "code",
   "execution_count": 40,
   "metadata": {},
   "outputs": [
    {
     "name": "stdout",
     "output_type": "stream",
     "text": [
      "['ali', 'talha']\n"
     ]
    }
   ],
   "source": [
    "\"\"\"\"\"\"\"Filter() Practice\"\"\"\"\"\"\"\n",
    "\n",
    "\n",
    "names = [\"ali\",\"talha\",\"waqas\",\"zunair\",\"waleed\",\"haider\"]\n",
    "\n",
    "def getname(names):\n",
    "    sel_name = [\"ali\",\"talha\"]\n",
    "    \n",
    "    if (names in sel_name):\n",
    "    \n",
    "        return True\n",
    "    else:\n",
    "        return False\n",
    "getnames = filter(getname,names)\n",
    "print (list(getnames))\n"
   ]
  },
  {
   "cell_type": "code",
   "execution_count": null,
   "metadata": {},
   "outputs": [],
   "source": []
  },
  {
   "cell_type": "code",
   "execution_count": null,
   "metadata": {},
   "outputs": [],
   "source": []
  }
 ],
 "metadata": {
  "kernelspec": {
   "display_name": "Python 3",
   "language": "python",
   "name": "python3"
  },
  "language_info": {
   "codemirror_mode": {
    "name": "ipython",
    "version": 3
   },
   "file_extension": ".py",
   "mimetype": "text/x-python",
   "name": "python",
   "nbconvert_exporter": "python",
   "pygments_lexer": "ipython3",
   "version": "3.7.3"
  }
 },
 "nbformat": 4,
 "nbformat_minor": 2
}
